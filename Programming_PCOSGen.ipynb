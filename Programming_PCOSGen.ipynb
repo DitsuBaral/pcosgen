{
 "cells": [
  {
   "cell_type": "code",
   "execution_count": 3,
   "id": "1e0fe2a5-206d-4db8-8243-bbc8ec6cbad2",
   "metadata": {},
   "outputs": [
    {
     "name": "stdout",
     "output_type": "stream",
     "text": [
      "\n",
      "Menu:\n",
      "1. Add gene sequence\n",
      "2. Compare gene sequences\n",
      "3. Exit\n"
     ]
    },
    {
     "name": "stdin",
     "output_type": "stream",
     "text": [
      "Enter your choice:  1\n",
      "Are cysts in ovaries seen in ultrasound scan? (Y/N):  Y\n",
      "Is the menstrual cycle irregular? (Y/N):  Y\n",
      "Is hyperandrogenism present? (Y/N):  Y\n",
      "Enter gene name:  INS\n",
      "Enter gene sequence:  ATTA\n"
     ]
    },
    {
     "name": "stdout",
     "output_type": "stream",
     "text": [
      "Sequence added under typeA, gene INS.\n",
      "\n",
      "Menu:\n",
      "1. Add gene sequence\n",
      "2. Compare gene sequences\n",
      "3. Exit\n"
     ]
    },
    {
     "name": "stdin",
     "output_type": "stream",
     "text": [
      "Enter your choice:  1\n",
      "Are cysts in ovaries seen in ultrasound scan? (Y/N):  Y\n",
      "Is the menstrual cycle irregular? (Y/N):  Y\n",
      "Is hyperandrogenism present? (Y/N):  Y\n",
      "Enter gene name:  INS\n",
      "Enter gene sequence:  ATTG\n"
     ]
    },
    {
     "name": "stdout",
     "output_type": "stream",
     "text": [
      "Sequence added under typeA, gene INS.\n",
      "\n",
      "Menu:\n",
      "1. Add gene sequence\n",
      "2. Compare gene sequences\n",
      "3. Exit\n"
     ]
    },
    {
     "name": "stdin",
     "output_type": "stream",
     "text": [
      "Enter your choice:  1\n",
      "Are cysts in ovaries seen in ultrasound scan? (Y/N):  Y\n",
      "Is the menstrual cycle irregular? (Y/N):  Y\n",
      "Is hyperandrogenism present? (Y/N):  Y\n",
      "Enter gene name:  CAPN10\n",
      "Enter gene sequence:  TTAG\n"
     ]
    },
    {
     "name": "stdout",
     "output_type": "stream",
     "text": [
      "Sequence added under typeA, gene CAPN10.\n",
      "\n",
      "Menu:\n",
      "1. Add gene sequence\n",
      "2. Compare gene sequences\n",
      "3. Exit\n"
     ]
    },
    {
     "name": "stdin",
     "output_type": "stream",
     "text": [
      "Enter your choice:  1\n",
      "Are cysts in ovaries seen in ultrasound scan? (Y/N):  Y\n",
      "Is the menstrual cycle irregular? (Y/N):  Y\n",
      "Is hyperandrogenism present? (Y/N):  Y\n",
      "Enter gene name:  FSHR\n",
      "Enter gene sequence:  CATT\n"
     ]
    },
    {
     "name": "stdout",
     "output_type": "stream",
     "text": [
      "Sequence added under typeA, gene FSHR.\n",
      "\n",
      "Menu:\n",
      "1. Add gene sequence\n",
      "2. Compare gene sequences\n",
      "3. Exit\n"
     ]
    },
    {
     "name": "stdin",
     "output_type": "stream",
     "text": [
      "Enter your choice:  1\n",
      "Are cysts in ovaries seen in ultrasound scan? (Y/N):  N\n",
      "Is the menstrual cycle irregular? (Y/N):  Y\n",
      "Is hyperandrogenism present? (Y/N):  Y\n",
      "Enter gene name:  FSHR\n",
      "Enter gene sequence:  AAAA\n"
     ]
    },
    {
     "name": "stdout",
     "output_type": "stream",
     "text": [
      "Sequence added under typeB, gene FSHR.\n",
      "\n",
      "Menu:\n",
      "1. Add gene sequence\n",
      "2. Compare gene sequences\n",
      "3. Exit\n"
     ]
    },
    {
     "name": "stdin",
     "output_type": "stream",
     "text": [
      "Enter your choice:  1\n",
      "Are cysts in ovaries seen in ultrasound scan? (Y/N):  Y\n",
      "Is the menstrual cycle irregular? (Y/N):  N\n",
      "Is hyperandrogenism present? (Y/N):  N\n"
     ]
    },
    {
     "name": "stdout",
     "output_type": "stream",
     "text": [
      "Criteria do not match any phenotype.\n",
      "\n",
      "Menu:\n",
      "1. Add gene sequence\n",
      "2. Compare gene sequences\n",
      "3. Exit\n"
     ]
    },
    {
     "name": "stdin",
     "output_type": "stream",
     "text": [
      "Enter your choice:  1\n",
      "Are cysts in ovaries seen in ultrasound scan? (Y/N):  N\n",
      "Is the menstrual cycle irregular? (Y/N):  Y\n",
      "Is hyperandrogenism present? (Y/N):  Y\n",
      "Enter gene name:  CAPN10\n",
      "Enter gene sequence:  TTAG\n"
     ]
    },
    {
     "name": "stdout",
     "output_type": "stream",
     "text": [
      "Sequence added under typeB, gene CAPN10.\n",
      "\n",
      "Menu:\n",
      "1. Add gene sequence\n",
      "2. Compare gene sequences\n",
      "3. Exit\n"
     ]
    },
    {
     "name": "stdin",
     "output_type": "stream",
     "text": [
      "Enter your choice:  1\n",
      "Are cysts in ovaries seen in ultrasound scan? (Y/N):  N\n",
      "Is the menstrual cycle irregular? (Y/N):  Y\n",
      "Is hyperandrogenism present? (Y/N):  Y\n",
      "Enter gene name:  INS\n",
      "Enter gene sequence:  AATG\n"
     ]
    },
    {
     "name": "stdout",
     "output_type": "stream",
     "text": [
      "Sequence added under typeB, gene INS.\n",
      "\n",
      "Menu:\n",
      "1. Add gene sequence\n",
      "2. Compare gene sequences\n",
      "3. Exit\n"
     ]
    },
    {
     "name": "stdin",
     "output_type": "stream",
     "text": [
      "Enter your choice:  1\n",
      "Are cysts in ovaries seen in ultrasound scan? (Y/N):  Y\n",
      "Is the menstrual cycle irregular? (Y/N):  N\n",
      "Is hyperandrogenism present? (Y/N):  Y\n",
      "Enter gene name:  FSHR\n",
      "Enter gene sequence:  AAGC\n"
     ]
    },
    {
     "name": "stdout",
     "output_type": "stream",
     "text": [
      "Sequence added under typeC, gene FSHR.\n",
      "\n",
      "Menu:\n",
      "1. Add gene sequence\n",
      "2. Compare gene sequences\n",
      "3. Exit\n"
     ]
    },
    {
     "name": "stdin",
     "output_type": "stream",
     "text": [
      "Enter your choice:  1\n",
      "Are cysts in ovaries seen in ultrasound scan? (Y/N):  Y\n",
      "Is the menstrual cycle irregular? (Y/N):  Y\n",
      "Is hyperandrogenism present? (Y/N):  N\n",
      "Enter gene name:  FSHR\n",
      "Enter gene sequence:  CATG\n"
     ]
    },
    {
     "name": "stdout",
     "output_type": "stream",
     "text": [
      "Sequence added under typeD, gene FSHR.\n",
      "\n",
      "Menu:\n",
      "1. Add gene sequence\n",
      "2. Compare gene sequences\n",
      "3. Exit\n"
     ]
    },
    {
     "name": "stdin",
     "output_type": "stream",
     "text": [
      "Enter your choice:  1\n",
      "Are cysts in ovaries seen in ultrasound scan? (Y/N):  Y\n",
      "Is the menstrual cycle irregular? (Y/N):  Y\n",
      "Is hyperandrogenism present? (Y/N):  N\n",
      "Enter gene name:  INS\n",
      "Enter gene sequence:  ATCG\n"
     ]
    },
    {
     "name": "stdout",
     "output_type": "stream",
     "text": [
      "Sequence added under typeD, gene INS.\n",
      "\n",
      "Menu:\n",
      "1. Add gene sequence\n",
      "2. Compare gene sequences\n",
      "3. Exit\n"
     ]
    },
    {
     "name": "stdin",
     "output_type": "stream",
     "text": [
      "Enter your choice:  2\n",
      "Enter gene name for comparison:  INS\n",
      "Enter new gene sequence:  ATTA\n",
      "Do you want to enter more sequences? (Y/N):  Y\n",
      "Enter gene name for comparison:  CAPN10\n",
      "Enter new gene sequence:  TTAG\n",
      "Do you want to enter more sequences? (Y/N):  Y\n",
      "Enter gene name for comparison:  FSHR\n",
      "Enter new gene sequence:  CATG\n",
      "Do you want to enter more sequences? (Y/N):  N\n"
     ]
    },
    {
     "name": "stdout",
     "output_type": "stream",
     "text": [
      "\n",
      "Probabilities of having each phenotype:\n",
      "typeA: 66.67%\n",
      "typeB: 33.33%\n",
      "typeC: 0.00%\n",
      "typeD: 50.00%\n",
      "\n",
      "Menu:\n",
      "1. Add gene sequence\n",
      "2. Compare gene sequences\n",
      "3. Exit\n"
     ]
    },
    {
     "name": "stdin",
     "output_type": "stream",
     "text": [
      "Enter your choice:  3\n"
     ]
    },
    {
     "name": "stdout",
     "output_type": "stream",
     "text": [
      "Exiting program.\n"
     ]
    }
   ],
   "source": [
    "from difflib import SequenceMatcher\n",
    "\n",
    "def calculate_similarity(seq1, seq2):\n",
    "    return SequenceMatcher(None, seq1, seq2).ratio()\n",
    "\n",
    "def add_gene_sequence(phenotype_dict, phenotype, gene_name, sequence):\n",
    "    if phenotype not in phenotype_dict:\n",
    "        phenotype_dict[phenotype] = {}\n",
    "    if gene_name not in phenotype_dict[phenotype]:\n",
    "        phenotype_dict[phenotype][gene_name] = []\n",
    "    phenotype_dict[phenotype][gene_name].append(sequence)\n",
    "\n",
    "def determine_phenotype(criteria_a, criteria_b, criteria_c):\n",
    "    if criteria_a == 'Y' and criteria_b == 'Y' and criteria_c == 'Y':\n",
    "        return \"typeA\"\n",
    "    elif criteria_a == 'N' and criteria_b == 'Y' and criteria_c == 'Y':\n",
    "        return \"typeB\"\n",
    "    elif criteria_a == 'Y' and criteria_b == 'N' and criteria_c == 'Y':\n",
    "        return \"typeC\"\n",
    "    elif criteria_a == 'Y' and criteria_b == 'Y' and criteria_c == 'N':\n",
    "        return \"typeD\"\n",
    "    else:\n",
    "        return None\n",
    "\n",
    "def compare_new_sequences(phenotype_dict, comparison_data):\n",
    "    probabilities = {phenotype: 0 for phenotype in phenotype_dict}\n",
    "    total_comparisons = {phenotype: 0 for phenotype in phenotype_dict}\n",
    "\n",
    "    for gene_name, new_sequence in comparison_data:\n",
    "        for phenotype, genes in phenotype_dict.items():\n",
    "            if gene_name in genes:\n",
    "                sequences = genes[gene_name]\n",
    "                total_genes = len(sequences)\n",
    "                score = any(calculate_similarity(seq, new_sequence) == 1.0 for seq in sequences)\n",
    "                probabilities[phenotype] += score\n",
    "                total_comparisons[phenotype] += 1\n",
    "\n",
    "    final_probabilities = {}\n",
    "    for phenotype in probabilities:\n",
    "        total = total_comparisons[phenotype]\n",
    "        final_probabilities[phenotype] = (probabilities[phenotype] / total) * 100 if total > 0 else 0\n",
    "\n",
    "    return final_probabilities\n",
    "\n",
    "gene_data = {}\n",
    "comparison_data = []\n",
    "\n",
    "while True:\n",
    "    print(\"\\nMenu:\")\n",
    "    print(\"1. Add gene sequence\")\n",
    "    print(\"2. Compare gene sequences\")\n",
    "    print(\"3. Exit\")\n",
    "    choice = input(\"Enter your choice: \").strip()\n",
    "\n",
    "    if choice == '1':\n",
    "        criteria_a = input(\"Are cysts in ovaries seen in ultrasound scan? (Y/N): \").strip().upper()\n",
    "        criteria_b = input(\"Is the menstrual cycle irregular? (Y/N): \").strip().upper()\n",
    "        criteria_c = input(\"Is hyperandrogenism present? (Y/N): \").strip().upper()\n",
    "\n",
    "        phenotype = determine_phenotype(criteria_a, criteria_b, criteria_c)\n",
    "\n",
    "        if phenotype:\n",
    "            gene_name = input(\"Enter gene name: \").strip()\n",
    "            sequence = input(\"Enter gene sequence: \").strip()\n",
    "            add_gene_sequence(gene_data, phenotype, gene_name, sequence)\n",
    "            print(f\"Sequence added under {phenotype}, gene {gene_name}.\")\n",
    "        else:\n",
    "            print(\"Criteria do not match any phenotype.\")\n",
    "\n",
    "    elif choice == '2':\n",
    "        while True:\n",
    "            gene_name = input(\"Enter gene name for comparison: \").strip()\n",
    "            new_sequence = input(\"Enter new gene sequence: \").strip()\n",
    "            comparison_data.append((gene_name, new_sequence))\n",
    "\n",
    "            more = input(\"Do you want to enter more sequences? (Y/N): \").strip().upper()\n",
    "            if more != 'Y':\n",
    "                break\n",
    "\n",
    "        probabilities = compare_new_sequences(gene_data, comparison_data)\n",
    "        print(\"\\nProbabilities of having each phenotype:\")\n",
    "        for phenotype, probability in probabilities.items():\n",
    "            print(f\"{phenotype}: {probability:.2f}%\")\n",
    "        comparison_data.clear()\n",
    "\n",
    "    elif choice == '3':\n",
    "        print(\"Exiting program.\")\n",
    "        break\n",
    "\n",
    "    else:\n",
    "        print(\"Invalid choice. Please try again.\")"
   ]
  },
  {
   "cell_type": "code",
   "execution_count": null,
   "id": "7e50df3c-0fba-4281-99d8-ae5b9dd42092",
   "metadata": {},
   "outputs": [],
   "source": []
  }
 ],
 "metadata": {
  "kernelspec": {
   "display_name": "Python 3 (ipykernel)",
   "language": "python",
   "name": "python3"
  },
  "language_info": {
   "codemirror_mode": {
    "name": "ipython",
    "version": 3
   },
   "file_extension": ".py",
   "mimetype": "text/x-python",
   "name": "python",
   "nbconvert_exporter": "python",
   "pygments_lexer": "ipython3",
   "version": "3.12.4"
  }
 },
 "nbformat": 4,
 "nbformat_minor": 5
}
